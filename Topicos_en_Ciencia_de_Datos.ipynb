{
  "nbformat": 4,
  "nbformat_minor": 0,
  "metadata": {
    "colab": {
      "name": "Topicos en Ciencia de Datos.ipynb",
      "provenance": [],
      "collapsed_sections": []
    },
    "kernelspec": {
      "name": "python3",
      "display_name": "Python 3"
    }
  },
  "cells": [
    {
      "cell_type": "markdown",
      "metadata": {
        "id": "scC1sD8_NFVx"
      },
      "source": [
        "* **Alumno:** Cueva Flores, Jonathan Brandon\n",
        "* **Docente:** Ana Maria Cuadros Valdivia\n",
        "\n"
      ]
    },
    {
      "cell_type": "code",
      "metadata": {
        "colab": {
          "base_uri": "https://localhost:8080/"
        },
        "id": "_Z-ZsUBmIAfY",
        "outputId": "54305683-849c-4307-fd82-ac1f6db1af87"
      },
      "source": [
        "from google.colab import drive\n",
        "drive.mount('/content/drive')"
      ],
      "execution_count": null,
      "outputs": [
        {
          "output_type": "stream",
          "text": [
            "Drive already mounted at /content/drive; to attempt to forcibly remount, call drive.mount(\"/content/drive\", force_remount=True).\n"
          ],
          "name": "stdout"
        }
      ]
    },
    {
      "cell_type": "markdown",
      "metadata": {
        "id": "qF0sxBgiqlGZ"
      },
      "source": [
        "**Bibliotecas**"
      ]
    },
    {
      "cell_type": "code",
      "metadata": {
        "id": "bnebJWMaqkMi"
      },
      "source": [
        "import matplotlib.pyplot as plt\n",
        "import pandas as pd\n",
        "import numpy as np\n",
        "import math\n",
        "from collections import defaultdict\n",
        "from timeit import timeit\n",
        "import time\n",
        "from timeit import default_timer as timer\n",
        "from math import isnan\n",
        "import random \n",
        "from math import sqrt\n",
        "import sys"
      ],
      "execution_count": null,
      "outputs": []
    },
    {
      "cell_type": "markdown",
      "metadata": {
        "id": "520vc1RRuKxY"
      },
      "source": [
        "# **Lectura y Formatizacion de Datos**\n",
        "\n",
        "* Para el **dataset** de ***ratings*** se considero las columnas user_id, movie_id y ratings\n",
        "  * Cantidad de usuarios 610\n",
        "  * Cantidad de datos 100836\n",
        "\n",
        "* Para el **dataset** de ***movies*** se considero las columnas movie_id, title y genres\n",
        "  * Cantidad de peliculas 9742 "
      ]
    },
    {
      "cell_type": "code",
      "metadata": {
        "id": "8PYOpPYJISmc"
      },
      "source": [
        "ratings = \"ratings.csv\"\n",
        "movies = \"movies.csv\"\n",
        "ratings1m = \"ratings.dat\"\n",
        "movies1m = \"movies.dat\""
      ],
      "execution_count": null,
      "outputs": []
    },
    {
      "cell_type": "code",
      "metadata": {
        "id": "ytaSYgEBxHgl"
      },
      "source": [
        "#Esta funcion se encarga de la lectura de datos para estructurarlos en un diccionario para facilitar el acceso\n",
        "def load_data(name,types,separador=\",\"):\n",
        "    d = defaultdict(dict)#definimos un diccionario multidimensional\n",
        "    f = open(name)\n",
        "    i = 0\n",
        "    val = []#vector para almacenar los elementos tokenizados\n",
        "    for line in f:#bucle para leer linea por linea el archvo .csv\n",
        "        line = line.strip('\\n')#eliminamos el elemento de salto de linea de la linea leida\n",
        "        #print(line)\n",
        "        if i != 0:#condicion para evitar leer los headers del .csv\n",
        "            val = line.split(separador)#tokenizamos la linea separandola por ,\n",
        "            d[val[0]][val[1]] = types(val[2])#Insertamos los elementos en el diccionario\n",
        "        i=1\n",
        "    return d\n",
        "\n",
        "def count_elapsed_time(f,k,funtion,users,umbral):\n",
        "    nValues = []\n",
        "    tValues = []\n",
        "    for i in users.keys():\n",
        "      start = time.time()\n",
        "      f(k,funtion,i,users,umbral)\n",
        "      end = time.time()\n",
        "      nValues.append(int(i))\n",
        "      tValues.append(end-start)\n",
        "    return nValues,tValues\n",
        "\n",
        "\n",
        "\n",
        "data = load_data(ratings,float,\",\")\n",
        "data_movies = load_data(movies,str,\",\")\n",
        "n_users = len(data.keys())\n",
        "data_1m = load_data(ratings1m,float,\"::\")\n",
        "data_movies_1m = load_data(movies1m,str,\"::\")\n",
        "n_users_1m = len(data_1m.keys())"
      ],
      "execution_count": null,
      "outputs": []
    },
    {
      "cell_type": "code",
      "metadata": {
        "colab": {
          "base_uri": "https://localhost:8080/"
        },
        "id": "azWhi-7YwWZg",
        "outputId": "43b53f5e-d7bf-4782-8a27-aa8a8eeda534"
      },
      "source": [
        "print(n_users,len(data_movies.keys()))\n",
        "print(n_users_1m,len(data_movies_1m.keys()))"
      ],
      "execution_count": null,
      "outputs": [
        {
          "output_type": "stream",
          "text": [
            "610 9742\n",
            "6040 3882\n"
          ],
          "name": "stdout"
        }
      ]
    },
    {
      "cell_type": "markdown",
      "metadata": {
        "id": "AeBNOfHjfzM3"
      },
      "source": [
        "# **Funciones de Distancia y Correlacion**\n",
        "\n",
        "\n",
        "1.   Implementar **distancia Manhattan**\n",
        "2.   Implementar **distancia Euclidean**\n",
        "3.   Implementar **Correlacion de Pearson**\n",
        "  * Python\n",
        "  * Numpy\n",
        "  * Funcion Pre-definida\n",
        "4.   Implementar **similitud del Coseno**\n",
        "  * Python\n",
        "  * Numpy\n",
        "\n",
        "\n",
        "\n",
        "\n"
      ]
    },
    {
      "cell_type": "code",
      "metadata": {
        "id": "8zuMgIRGidK2"
      },
      "source": [
        "def manhattan(key1, key2):\n",
        "    distance = 0\n",
        "    #Usamos un bucle para recorrer las peliculas del usuario1\n",
        "    for i in key1:\n",
        "        if i in key2:#condicion para verificar si una pelicula del usuario1 se encuentra en el usuario2\n",
        "            distance += abs(key1[i] - key2[i])\n",
        "    #Esta condicion ayuda cuando los elementos no tienen ninguna coincidencia\n",
        "    if distance != 0:\n",
        "        return distance\n",
        "    else:\n",
        "        return sys.maxsize#sin coincidencias se retorna un int maximo\n",
        "\n",
        "def euclidean(key1, key2):\n",
        "    distance = 0\n",
        "    #Usamos un bucle para recorrer las peliculas del usuario1\n",
        "    for i in key1:\n",
        "        if i in key2:#condicion para verificar si una pelicula del usuario1 se encuentra en el usuario2\n",
        "            distance += abs(key1[i] - key2[i])**2\n",
        "    #Esta condicion ayuda cuando los elementos no tienen ninguna coincidencia\n",
        "    if distance != 0:\n",
        "        return sqrt(distance)\n",
        "    else:\n",
        "        return sys.maxsize#sin coincidencias se retorna un int maximo\n",
        "\n",
        "def pearson_pyt(key1,key2):\n",
        "    dimension = 0 #contador para saber si los elementos tienen alguna correlacion\n",
        "    cal1 = 0\n",
        "    cal2 = [0,0]\n",
        "    cal3 = [0,0]\n",
        "    #Usamos un bucle para recorrer las peliculas del usuario1\n",
        "    for i in key1:\n",
        "        if i in key2:#condicion para verificar si una pelicula del usuario1 se encuentra en el usuario2\n",
        "            #seccion de los calculos que se realizan para la funcion\n",
        "            dimension+=1\n",
        "            cal1 = cal1+key1[i]*key2[i]\n",
        "            cal2[0] = cal2[0]+key1[i]\n",
        "            cal2[1] = cal2[1]+key2[i]\n",
        "            cal3[0] = cal3[0]+(key1[i]**2)\n",
        "            cal3[1] = cal3[1]+(key2[i]**2)\n",
        "    #condicion para verificar si la correlacion existe            \n",
        "    if dimension!=0:\n",
        "      cal5_n = math.sqrt(cal3[0]-cal2[0]**2/dimension) * math.sqrt(cal3[1]-cal2[1]**2/dimension)\n",
        "      cal2_n = (cal1 - (cal2[0] * cal2[1]) / dimension)\n",
        "    else:\n",
        "      cal5_n = 0\n",
        "    if cal5_n == 0:\n",
        "      return 0\n",
        "    return cal2_n/cal5_n\n",
        "\n",
        "def pearson_numpy(key1,key2):\n",
        "    a = []\n",
        "    b = []\n",
        "    #Usamos un bucle para recorrer las peliculas del usuario1\n",
        "    for i in key1:\n",
        "      if i in key2:#condicion para verificar si una pelicula del usuario1 se encuentra en el usuario2\n",
        "        a.append(key1[i])\n",
        "        b.append(key2[i])\n",
        "    c=np.corrcoef(a,b)[0, 1] #El valor almacenado en esta posicion corresponde a la correlacion\n",
        "    if np.isnan(c):#verifico si el valor es nan y se le asigna 0 para definir una correlacion nula\n",
        "      return 0\n",
        "    else:\n",
        "      return c\n",
        "\n",
        "def pearson_num(key1,key2):\n",
        "    dimension = 0 #contador para saber si los elementos tienen alguna correlacion\n",
        "    a = []\n",
        "    b = []\n",
        "    #Usamos un bucle para recorrer las peliculas del usuario1\n",
        "    for i in key1:\n",
        "      if i in key2:#condicion para verificar si una pelicula del usuario1 se encuentra en el usuario2\n",
        "        a.append(key1[i])\n",
        "        b.append(key2[i])\n",
        "        dimension +=1\n",
        "    #Operaciones algebraicas\n",
        "    sum_xy = sum(np.array(a)*np.array(b))\n",
        "    sum_x = sum(np.array(a))\n",
        "    sum_y = sum(np.array(b))\n",
        "    sum_x2 = sum(np.array(a)**2)\n",
        "    sum_y2 = sum(np.array(b)**2)\n",
        "    #condicion para verificar si la correlacion existe\n",
        "    if dimension != 0:\n",
        "        denominator = math.sqrt(sum_x2-sum_x**2/dimension)*math.sqrt(sum_y2-sum_y**2/dimension)\n",
        "    else:\n",
        "        denominator = 0\n",
        "    if denominator == 0:\n",
        "        return 0\n",
        "    else:\n",
        "        return (sum_xy-(sum_x*sum_y)/dimension) / denominator\n",
        "\n",
        "def cos_python(key1,key2):\n",
        "    dimension = 0 #contador para saber si los elementos tienen alguna correlacion\n",
        "    cal1 = 0\n",
        "    cal2 = [0,0]\n",
        "    cal3 = [0,0]\n",
        "    #Usamos un bucle para recorrer las peliculas del usuario1\n",
        "    for i in key1:\n",
        "        if i in key2:#condicion para verificar si una pelicula del usuario1 se encuentra en el usuario2\n",
        "            dimension+=1\n",
        "            cal1 = cal1+key1[i]*key2[i]\n",
        "            cal2[0] = cal2[0]+key1[i]**2\n",
        "            cal2[1] = cal2[1]+key2[i]**2\n",
        "    #condicion para verificar si la correlacion existe\n",
        "    if dimension!=0:\n",
        "      cal3[0] = math.sqrt(cal2[0])\n",
        "      cal3[1] = math.sqrt(cal2[1])\n",
        "      cal5_n = cal3[0]*cal3[1]\n",
        "    else:\n",
        "      cal5_n = 0\n",
        "    if cal5_n == 0:\n",
        "      return 0\n",
        "    return cal1/cal5_n\n",
        "\n",
        "def cos_numpy(key1,key2):\n",
        "    #extraemos las listas de peliculas de cada usuario\n",
        "    a = np.array(list(key1.keys()))\n",
        "    b = np.array(list(key2.keys()))\n",
        "    #se verifican los elementos en la interseccion de peliculas entre los usuarios\n",
        "    vect = np.intersect1d(a,b)\n",
        "    dimension = len(vect) \n",
        "    a = []\n",
        "    b = []\n",
        "    for i in vect:\n",
        "        a.append(key1[i])\n",
        "        b.append(key2[i])\n",
        "    sum_xy = sum(np.array(a)*np.array(b))\n",
        "    sum_x2 = math.sqrt(sum(np.array(a)**2))\n",
        "    sum_y2 = math.sqrt(sum(np.array(b)**2))\n",
        "    \n",
        "    return sum_xy/(sum_x2*sum_y2)"
      ],
      "execution_count": null,
      "outputs": []
    },
    {
      "cell_type": "markdown",
      "metadata": {
        "id": "YK_2RnC6dumm"
      },
      "source": [
        "# **K-NN**\n",
        "\n",
        "1.   Implementar K-nn\n",
        "2.   Implementar Sistema de recomendacion de peliculas \n"
      ]
    },
    {
      "cell_type": "code",
      "metadata": {
        "id": "2IQzxtnVdrsO"
      },
      "source": [
        "'''Funcion para calcular los k vecinos mas cercanos'''\n",
        "def kn(funtion,username, users):\n",
        "    distances = []#vector que almacena pares de (distancia o correlacion, id_usuario)\n",
        "    for user in users:#bucle para recorrerusuarios\n",
        "        if user != username:#condicion para verificar que el usuario no sea el mismo con el que se compara\n",
        "            distance = funtion(users[user], users[username])#llamada a la funcion para el calculo de la distancia o correlacion\n",
        "            distances.append((distance, user))#agregar par de (distancia o correlacion, id_usuario)\n",
        "    if funtion==manhattan or funtion==euclidean:#condicion para ordenar los datos de forma adecuada.\n",
        "      distances.sort()\n",
        "    else:\n",
        "      distances.sort(reverse=True)\n",
        "    return distances\n",
        "\n",
        "def knn(k,funtion,username, users,umbral):\n",
        "    d = []\n",
        "    distances = kn(funtion,username, users)\n",
        "    vecinos = distances[0:k]\n",
        "    for i in vecinos:\n",
        "      #print(\"Usuario: \",i[1],\"\\t Puntuacion: \",i[0])\n",
        "      d.append([(\"USUARIO: \",i[1],\"PUNTUACION: \",i[0])])\n",
        "      nearest=i[1]\n",
        "      film_r = []\n",
        "      vecinosRatings = users[nearest]\n",
        "      userRatings = users[username]\n",
        "      for films in vecinosRatings:\n",
        "          if not films in userRatings:\n",
        "            if vecinosRatings[films] >= umbral:\n",
        "              name_film = list(data_movies[films].keys())[0]\n",
        "              film_r.append((films, vecinosRatings[films]))\n",
        "      d.append(sorted(film_r, key=lambda index:index[1], reverse = True))\n",
        "    return d\n"
      ],
      "execution_count": null,
      "outputs": []
    },
    {
      "cell_type": "markdown",
      "metadata": {
        "id": "K36bKlSTr6DQ"
      },
      "source": [
        "# **Grado de Influencia**\n"
      ]
    },
    {
      "cell_type": "code",
      "metadata": {
        "id": "VyL_DKsOKagb"
      },
      "source": [
        "def influence_grade(user_id, movie_id,users,k=3,funtion=pearson_pyt):\n",
        "  vecinos = kn(funtion,user_id,users) #Se obtiene los k vecinos mas cercanos\n",
        "  list_k = [] #Lista que almacena pares de (rating,distancia o similitud)\n",
        "  sumador = 0 #contador de la suma de distancias o similitud para los k-vecinos\n",
        "  for i in vecinos:#Bucle para recorrer los k-vecinos\n",
        "    if len(list_k)>k-1: #Condicion para verificar cantidad de k_vecinos\n",
        "      break\n",
        "    vecinosRatings = users[i[1]]#vector de de peliculas para uno de los k-vecinos\n",
        "    if i[0]!=0 and movie_id in vecinosRatings:#Verificar si la pelicula esta en el vector de vecinos\n",
        "      list_k.append((vecinosRatings[movie_id],abs(i[0])))#agregar los pares\n",
        "      sumador+=abs(i[0])#sumador de distancias o similitud\n",
        "  array = [z[0]*(z[1]/sumador) for z in list_k]#Operaciones para predecir la puntuacion\n",
        "  return list(data_movies[movie_id])[0], round(sum(array),1)\n"
      ],
      "execution_count": null,
      "outputs": []
    },
    {
      "cell_type": "markdown",
      "metadata": {
        "id": "P4icRxjitsMX"
      },
      "source": [
        "# **Funcion Insertar Nuevos Usuarios**"
      ]
    },
    {
      "cell_type": "code",
      "metadata": {
        "id": "4Cy_efq7kCgE"
      },
      "source": [
        "def insert_user(users,films=10):\n",
        "  new_users=n_users+1 #sumar un valor a la cantidad de usuarios.\n",
        "  print(\"Nuevo usuario key: \",new_users)\n",
        "  list_fils = list(data_movies.keys())\n",
        "  for i in range(0,films):\n",
        "    #film = str(input(\"Ingresar key de peliculas: \"))\n",
        "    film = random.choice(list_fils)#Valor random para clave de pelicula\n",
        "    #score = float(input(\"El valor de puntuacion debe ser entre 0 - 5: \"))\n",
        "    score = round(random.uniform(1,5),1)#valor random de puntuacion para la pelicula\n",
        "    #print(film,score)\n",
        "    users[str(new_users)][str(film)]=score #Agregar elemento en la base de datos temporal\n",
        "  return users,new_users #Pasar base de datos temporal y la cantidad de nuevos usuarios"
      ],
      "execution_count": null,
      "outputs": []
    },
    {
      "cell_type": "markdown",
      "metadata": {
        "id": "-T3p_ddutUbZ"
      },
      "source": [
        "# **Funcion Modelo de Evaluacion**"
      ]
    },
    {
      "cell_type": "code",
      "metadata": {
        "id": "jjd9paF2PWZU"
      },
      "source": [
        "'''Esta Funcion se encarga de analizar todas las peliculas que el usuario no a visto'''\n",
        "def evaluate_influence(user_id,users,k=3,funtion=pearson_pyt,umbral=3,cont_film=100):\n",
        "  user = user_id\n",
        "  #interseccion entre la lista de todas las peliculas con las peliculas que el usuario vio\n",
        "  data_influence = []\n",
        "  #En la siguiente linea se extraen los elementos fuera de la interseccion y se toma una muestra de estos\n",
        "  #usando la variable predeterminada(\"cont_film\") por la funcion.\n",
        "  data_movie = list(set(list(data_movies.keys())).symmetric_difference(list(data[user].keys())))[:cont_film]\n",
        "  for movie_id in data_movie:\n",
        "    #if not movie_id in users[user]:\n",
        "      #for movie_id in arreglo:\n",
        "      t_start = time.time()\n",
        "      name,point = influence_grade(user,movie_id,users,k,funtion)#se calcula el grado de influencia\n",
        "      #print(time.time()-t_start)\n",
        "      if point>=umbral: #La condicion para validar peliculas filtradas por el umbral\n",
        "        #print((movie_id,name,point))\n",
        "        data_influence.append((name,point))\n",
        "  #Ordena los datos por la puntuacion que tendrian\n",
        "  return sorted(data_influence, key=lambda index:index[1], reverse=True)"
      ],
      "execution_count": null,
      "outputs": []
    },
    {
      "cell_type": "markdown",
      "metadata": {
        "id": "btPHmg8ctatF"
      },
      "source": [
        "## **Test de datos para recomendar peliculas**\n",
        "\n",
        "\n",
        "1.   usuario: 147 con 20 peliculas \n",
        "2.   usuario: 414 con 2698 peliculas \n",
        "3.   usuario nuevo: 611 con mas de 8000 peliculas\n",
        "\n"
      ]
    },
    {
      "cell_type": "code",
      "metadata": {
        "colab": {
          "base_uri": "https://localhost:8080/"
        },
        "id": "cTe6DKQtt07r",
        "outputId": "552f299f-9467-40d6-d787-629bb26c5327"
      },
      "source": [
        "ssss = time.time()\n",
        "influence_grade(\"147\", \"50\",data)\n",
        "print(time.time()-ssss)"
      ],
      "execution_count": null,
      "outputs": [
        {
          "output_type": "stream",
          "text": [
            "0.01116180419921875\n"
          ],
          "name": "stdout"
        }
      ]
    },
    {
      "cell_type": "code",
      "metadata": {
        "id": "UihLajIXNN7l",
        "colab": {
          "base_uri": "https://localhost:8080/"
        },
        "outputId": "6be04899-77d8-4cce-82d3-6f6161cd045d"
      },
      "source": [
        "data_influence = evaluate_influence(\"147\",data)\n",
        "print(len(data_influence))\n",
        "for u in data_influence:\n",
        "  print(u)"
      ],
      "execution_count": null,
      "outputs": [
        {
          "output_type": "stream",
          "text": [
            "50\n",
            "('Hunt for the Wilderpeople (2016)', 4.5)\n",
            "('Girl Who Played with Fire- The (Flickan som lekte med elden) (2009)', 4.4)\n",
            "('Farewell My Concubine (Ba wang bie ji) (1993)', 4.3)\n",
            "('Juno (2007)', 4.2)\n",
            "('Kung Fu Hustle (Gong fu) (2004)', 4.1)\n",
            "('Trance (2013)', 4.0)\n",
            "('Doctor Who: Voyage Of The Damned (2007)', 4.0)\n",
            "('Sinbad: Legend of the Seven Seas (2003)', 4.0)\n",
            "('Looking for Richard (1996)', 4.0)\n",
            "('Dark Water (Honogurai mizu no soko kara) (2002)', 4.0)\n",
            "('Idlewild (2006)', 4.0)\n",
            "('TV Set- The (2006)', 4.0)\n",
            "('Rocky Horror Picture Show- The (1975)', 4.0)\n",
            "('Accidental Tourist- The (1988)', 4.0)\n",
            "('Love & Mercy (2014)', 4.0)\n",
            "('King of Masks- The (Bian Lian) (1996)', 4.0)\n",
            "('White Balloon- The (Badkonake sefid) (1995)', 4.0)\n",
            "('Letter to Three Wives- A (1949)', 4.0)\n",
            "('Mandela: Long Walk to Freedom (2013)', 3.9)\n",
            "('Monsieur Ibrahim (Monsieur Ibrahim et les fleurs du Coran) (2003)', 3.9)\n",
            "('Star Trek Beyond (2016)', 3.8)\n",
            "('Big (1988)', 3.8)\n",
            "('Manhunter (1986)', 3.8)\n",
            "('Game of Death (1978)', 3.8)\n",
            "('28 Days Later (2002)', 3.7)\n",
            "('Mr. Death: The Rise and Fall of Fred A. Leuchter- Jr. (1999)', 3.6)\n",
            "('Serpent and the Rainbow- The (1988)', 3.6)\n",
            "('Finding Neverland (2004)', 3.5)\n",
            "('Beyond the Valley of the Dolls (1970)', 3.5)\n",
            "('Dear Zachary: A Letter to a Son About His Father (2008)', 3.5)\n",
            "('Music Man- The (1962)', 3.5)\n",
            "('Impromptu (1991)', 3.5)\n",
            "('Rebel Without a Cause (1955)', 3.5)\n",
            "('Unstrung Heroes (1995)', 3.5)\n",
            "('Flashdance (1983)', 3.4)\n",
            "('O (2001)', 3.4)\n",
            "('Edward Scissorhands (1990)', 3.3)\n",
            "('Harry Potter and the Goblet of Fire (2005)', 3.3)\n",
            "('Forget Paris (1995)', 3.2)\n",
            "('Winged Migration (Peuple migrateur- Le) (2001)', 3.2)\n",
            "('Stagecoach (1939)', 3.1)\n",
            "(\"Don't Tell Mom the Babysitter's Dead (1991)\", 3.1)\n",
            "('Murder by Numbers (2002)', 3.1)\n",
            "('In Cold Blood (1967)', 3.1)\n",
            "('Restrepo (2010)', 3.0)\n",
            "('Snake Pit- The (1948)', 3.0)\n",
            "('Turtle Power: The Definitive History of the Teenage Mutant Ninja Turtles (2014)', 3.0)\n",
            "('Together (Han ni Zai Yiki) (2002)', 3.0)\n",
            "('Fandango (1985)', 3.0)\n",
            "('Power Rangers (2017)', 3.0)\n"
          ],
          "name": "stdout"
        }
      ]
    },
    {
      "cell_type": "code",
      "metadata": {
        "id": "Ki6J2QGitRPI",
        "colab": {
          "base_uri": "https://localhost:8080/"
        },
        "outputId": "d12a32ec-2ee4-4bf4-c771-8df10e13ddc5"
      },
      "source": [
        "data_influence = evaluate_influence(\"414\",data)\n",
        "print(len(data_influence))\n",
        "for u in data_influence:\n",
        "  print(u)"
      ],
      "execution_count": null,
      "outputs": [
        {
          "output_type": "stream",
          "text": [
            "70\n",
            "('All About My Mother (Todo sobre mi madre) (1999)', 4.8)\n",
            "('Shaolin Temple (Shao Lin si) (1976)', 4.5)\n",
            "('Dead or Alive: Hanzaisha (1999)', 4.5)\n",
            "(\"Internet's Own Boy: The Story of Aaron Swartz- The (2014)\", 4.5)\n",
            "('Love & Mercy (2014)', 4.3)\n",
            "('Doctor Who: Voyage Of The Damned (2007)', 4.2)\n",
            "('Stalingrad (1993)', 4.2)\n",
            "('Dersu Uzala (1975)', 4.2)\n",
            "('Game of Death (1978)', 4.1)\n",
            "('LBJ (2017)', 4.0)\n",
            "('Drained (O cheiro do Ralo) (2006)', 4.0)\n",
            "('First Beautiful Thing- The (La prima cosa bella) (2010)', 4.0)\n",
            "('Old Men: Robbers (1971)', 4.0)\n",
            "('Dark Water (Honogurai mizu no soko kara) (2002)', 4.0)\n",
            "('Idlewild (2006)', 4.0)\n",
            "('TV Set- The (2006)', 4.0)\n",
            "('Andrew Dice Clay: Dice Rules (1991)', 4.0)\n",
            "('King of Masks- The (Bian Lian) (1996)', 4.0)\n",
            "('Return to Never Land (2002)', 4.0)\n",
            "('White Balloon- The (Badkonake sefid) (1995)', 4.0)\n",
            "('Girl Who Played with Fire- The (Flickan som lekte med elden) (2009)', 4.0)\n",
            "('Letter to Three Wives- A (1949)', 4.0)\n",
            "('Impromptu (1991)', 4.0)\n",
            "('House at the End of the Street (2012)', 4.0)\n",
            "('Human Stain- The (2003)', 4.0)\n",
            "('Mimino (1977)', 4.0)\n",
            "('Nosferatu the Vampyre (Nosferatu: Phantom der Nacht) (1979)', 4.0)\n",
            "('Performance (1970)', 4.0)\n",
            "('Way Back- The (2010)', 4.0)\n",
            "('Kung Fu Hustle (Gong fu) (2004)', 3.9)\n",
            "('Bent (1997)', 3.9)\n",
            "('Mandela: Long Walk to Freedom (2013)', 3.8)\n",
            "('Farewell My Concubine (Ba wang bie ji) (1993)', 3.8)\n",
            "('The Hunger Games: Mockingjay - Part 1 (2014)', 3.8)\n",
            "('Mr. Death: The Rise and Fall of Fred A. Leuchter- Jr. (1999)', 3.7)\n",
            "('Looney Tunes: Back in Action (2003)', 3.7)\n",
            "('Monsieur Ibrahim (Monsieur Ibrahim et les fleurs du Coran) (2003)', 3.7)\n",
            "('Trance (2013)', 3.6)\n",
            "('Dear Zachary: A Letter to a Son About His Father (2008)', 3.6)\n",
            "(\"Ulee's Gold (1997)\", 3.6)\n",
            "('Star Trek Beyond (2016)', 3.5)\n",
            "('Beyond the Valley of the Dolls (1970)', 3.5)\n",
            "('The Death of Louis XIV (2016)', 3.5)\n",
            "('Private Lives of Pippa Lee- The (2009)', 3.5)\n",
            "('Music Man- The (1962)', 3.5)\n",
            "('War and Peace (1956)', 3.5)\n",
            "('Get on Up (2014)', 3.5)\n",
            "('Tetsuo- the Ironman (Tetsuo) (1988)', 3.5)\n",
            "('Au Hasard Balthazar (1966)', 3.5)\n",
            "('Recount (2008)', 3.5)\n",
            "('Descent- The (2005)', 3.5)\n",
            "('Stagecoach (1939)', 3.4)\n",
            "('Affair to Remember- An (1957)', 3.4)\n",
            "('In Cold Blood (1967)', 3.4)\n",
            "('Money Talks (1997)', 3.4)\n",
            "('Snake Pit- The (1948)', 3.3)\n",
            "('Accidental Tourist- The (1988)', 3.3)\n",
            "('21 and Over (2013)', 3.2)\n",
            "('Restrepo (2010)', 3.1)\n",
            "(\"It's Complicated (2009)\", 3.1)\n",
            "('Beasts of No Nation (2015)', 3.0)\n",
            "('Murder by Numbers (2002)', 3.0)\n",
            "('Oliver & Company (1988)', 3.0)\n",
            "('Turtle Power: The Definitive History of the Teenage Mutant Ninja Turtles (2014)', 3.0)\n",
            "('Together (Han ni Zai Yiki) (2002)', 3.0)\n",
            "('Jungle Book 2- The (2003)', 3.0)\n",
            "('Fandango (1985)', 3.0)\n",
            "('Power Rangers (2017)', 3.0)\n",
            "('Beyond the Clouds (Al di lÃ\\xa0 delle nuvole) (1996)', 3.0)\n",
            "('TMNT (Teenage Mutant Ninja Turtles) (2007)', 3.0)\n"
          ],
          "name": "stdout"
        }
      ]
    },
    {
      "cell_type": "code",
      "metadata": {
        "id": "0bQ4R9fwlceB",
        "colab": {
          "base_uri": "https://localhost:8080/"
        },
        "outputId": "0b4fcb28-0043-4776-d33f-b4f397913881"
      },
      "source": [
        "data,n_users = insert_user(data,20000)\n",
        "#print(data[str(n_users)])\n",
        "print(\"Con peliculas :\", len(data[str(n_users)].keys()))"
      ],
      "execution_count": null,
      "outputs": [
        {
          "output_type": "stream",
          "text": [
            "Nuevo usuario key:  611\n",
            "Con peliculas : 8517\n"
          ],
          "name": "stdout"
        }
      ]
    },
    {
      "cell_type": "code",
      "metadata": {
        "id": "P4iq1GN7vknU",
        "colab": {
          "base_uri": "https://localhost:8080/"
        },
        "outputId": "2649e3f3-9d42-4b7e-89d9-be15cee4f997"
      },
      "source": [
        "user_tmp = str(n_users)\n",
        "print(\"Nuevo usuario: \",n_users)\n",
        "data_influence = evaluate_influence(user_tmp,data)\n",
        "print(len(data_influence))\n",
        "for u in data_influence:\n",
        "  print(u)"
      ],
      "execution_count": null,
      "outputs": [
        {
          "output_type": "stream",
          "text": [
            "Nuevo usuario:  611\n",
            "68\n",
            "('Only Lovers Left Alive (2013)', 5.0)\n",
            "('The Bremen Town Musicians (1969)', 5.0)\n",
            "('Mystery of the Third Planet- The (Tayna tretey planety) (1981)', 5.0)\n",
            "('Bobik Visiting Barbos (1977)', 5.0)\n",
            "('Affair to Remember- An (1957)', 4.9)\n",
            "('Lifeguard- The (2013)', 4.9)\n",
            "('Trial- The (ProcÃ¨s- Le) (1962)', 4.9)\n",
            "('Harakiri (Seppuku) (1962)', 4.8)\n",
            "('American Made (2017)', 4.7)\n",
            "('Farewell My Concubine (Ba wang bie ji) (1993)', 4.6)\n",
            "('Shaolin Temple (Shao Lin si) (1976)', 4.5)\n",
            "('Dead or Alive: Hanzaisha (1999)', 4.5)\n",
            "('Killer Joe (2011)', 4.5)\n",
            "('Bone Tomahawk (2015)', 4.5)\n",
            "('Stoning of Soraya M.- The (2008)', 4.5)\n",
            "('Never Cry Wolf (1983)', 4.2)\n",
            "('Pledge- The (2001)', 4.2)\n",
            "('White Balloon- The (Badkonake sefid) (1995)', 4.0)\n",
            "('Savage Nights (Nuits fauves- Les) (1992)', 4.0)\n",
            "('State of Grace (1990)', 4.0)\n",
            "('A Cosmic Christmas (1977)', 4.0)\n",
            "('Whole Nine Yards- The (2000)', 4.0)\n",
            "('American Grindhouse (2010)', 4.0)\n",
            "('This Is Spinal Tap (1984)', 4.0)\n",
            "(\"Michael Jackson's Thriller (1983)\", 4.0)\n",
            "('Alice (2009)', 4.0)\n",
            "('Wedding Crashers (2005)', 4.0)\n",
            "('Dragon ball Z 04: Lord Slug (1991)', 4.0)\n",
            "('35 Up (1991)', 4.0)\n",
            "('Fandango (1985)', 3.9)\n",
            "('Tell No One (Ne le dis Ã\\xa0 personne) (2006)', 3.9)\n",
            "('Of Mice and Men (1992)', 3.9)\n",
            "('1984 (Nineteen Eighty-Four) (1984)', 3.8)\n",
            "('Tokyo Drifter (TÃ´kyÃ´ nagaremono) (1966)', 3.8)\n",
            "('Cube (1997)', 3.8)\n",
            "('Taxi 2 (2000)', 3.7)\n",
            "('Hellboy II: The Golden Army (2008)', 3.7)\n",
            "('Sicko (2007)', 3.7)\n",
            "('Beastmaster- The (1982)', 3.6)\n",
            "('Memories (MemorÃ®zu) (1995)', 3.6)\n",
            "('Human Nature (2001)', 3.6)\n",
            "('Stardust (2007)', 3.6)\n",
            "('War and Peace (1956)', 3.5)\n",
            "('Land of Plenty (Angst and Alienation in America) (2004)', 3.5)\n",
            "('New Police Story (Xin jing cha gu shi) (2004)', 3.5)\n",
            "('Here Comes Mr. Jordan (1941)', 3.5)\n",
            "('Bag Man- The (2014)', 3.5)\n",
            "('Damn Yankees! (1958)', 3.5)\n",
            "('Cimarron (1931)', 3.5)\n",
            "('Vampire in Brooklyn (1995)', 3.3)\n",
            "('Man of Steel (2013)', 3.3)\n",
            "('Hollywood Homicide (2003)', 3.2)\n",
            "('Deadpool (2016)', 3.2)\n",
            "('Witness (1985)', 3.2)\n",
            "('Lake House- The (2006)', 3.2)\n",
            "('Anomalisa (2015)', 3.2)\n",
            "('Flight of the Phoenix (2004)', 3.0)\n",
            "('Matinee (1993)', 3.0)\n",
            "('Great Beauty- The (Grande Bellezza- La) (2013)', 3.0)\n",
            "('The Odyssey (1997)', 3.0)\n",
            "('Bat*21 (1988)', 3.0)\n",
            "('Texas Chainsaw Massacre: The Next Generation (a.k.a. The Return of the Texas Chainsaw Massacre) (1994)', 3.0)\n",
            "('Night to Remember- A (1958)', 3.0)\n",
            "('Beverly Hillbillies- The (1993)', 3.0)\n",
            "(\"Jupiter's Wife (1994)\", 3.0)\n",
            "('Ro.Go.Pa.G. (1963)', 3.0)\n",
            "('Gridiron Gang (2006)', 3.0)\n",
            "('Brood- The (1979)', 3.0)\n"
          ],
          "name": "stdout"
        }
      ]
    },
    {
      "cell_type": "markdown",
      "metadata": {
        "id": "TMMmRITzfqCc"
      },
      "source": [
        "#**PRUEBAS**\n",
        "* ### **EVALUACION PARA DIFERENTES K**\n",
        "* ### **EVALUACION DE LOS METODOS**"
      ]
    },
    {
      "cell_type": "code",
      "metadata": {
        "id": "jIrxFswYCg1g"
      },
      "source": [
        "user = \"414\"\n",
        "data_movie = list(set(list(data_movies.keys())).symmetric_difference(list(data[user].keys())))"
      ],
      "execution_count": null,
      "outputs": []
    },
    {
      "cell_type": "markdown",
      "metadata": {
        "id": "9oz4ljIiL07N"
      },
      "source": [
        "Para la funcion **pearson** con diferentes k se tiene que a mayor numero de **k vecinos mas cercanos** se incrementa la valoracion que esta podria tener."
      ]
    },
    {
      "cell_type": "code",
      "metadata": {
        "colab": {
          "base_uri": "https://localhost:8080/"
        },
        "id": "IXzwugtCB4h_",
        "outputId": "d240270c-af20-468f-af1c-f0c2e4f6a8ce"
      },
      "source": [
        "print(influence_grade(user,data_movie[100],data,k=3,funtion=pearson_pyt))\n",
        "print(influence_grade(user,data_movie[100],data,k=76,funtion=pearson_pyt))\n",
        "print(influence_grade(user,data_movie[100],data,k=152,funtion=pearson_pyt))\n",
        "print(influence_grade(user,data_movie[100],data,k=305,funtion=pearson_pyt))\n",
        "print(influence_grade(user,data_movie[100],data,k=610,funtion=pearson_pyt))"
      ],
      "execution_count": null,
      "outputs": [
        {
          "output_type": "stream",
          "text": [
            "(\"Mackenna's Gold (1969)\", 3.1)\n",
            "(\"Mackenna's Gold (1969)\", 3.1)\n",
            "(\"Mackenna's Gold (1969)\", 3.1)\n",
            "(\"Mackenna's Gold (1969)\", 3.1)\n",
            "(\"Mackenna's Gold (1969)\", 3.1)\n"
          ],
          "name": "stdout"
        }
      ]
    },
    {
      "cell_type": "markdown",
      "metadata": {
        "id": "LhTpnkvxMbN8"
      },
      "source": [
        "Para la funcion **manhattan** con diferentes k se tiene que a mayor numero de **k vecinos mas cercanos** se reduce la valoracion que esta podria tener, esto ya que se realizan mas comparaciones y reducen sus valoraciones."
      ]
    },
    {
      "cell_type": "code",
      "metadata": {
        "colab": {
          "base_uri": "https://localhost:8080/"
        },
        "id": "PXO_b9K8D48J",
        "outputId": "4a0bca18-a471-4095-a61f-7426c58e17da"
      },
      "source": [
        "print(influence_grade(user,data_movie[100],data,k=3,funtion=manhattan))\n",
        "print(influence_grade(user,data_movie[100],data,k=76,funtion=manhattan))\n",
        "print(influence_grade(user,data_movie[100],data,k=152,funtion=manhattan))\n",
        "print(influence_grade(user,data_movie[100],data,k=305,funtion=manhattan))\n",
        "print(influence_grade(user,data_movie[100],data,k=610,funtion=manhattan))"
      ],
      "execution_count": null,
      "outputs": [
        {
          "output_type": "stream",
          "text": [
            "(\"Mackenna's Gold (1969)\", 4.1)\n",
            "(\"Mackenna's Gold (1969)\", 4.1)\n",
            "(\"Mackenna's Gold (1969)\", 4.1)\n",
            "(\"Mackenna's Gold (1969)\", 4.1)\n",
            "(\"Mackenna's Gold (1969)\", 4.1)\n"
          ],
          "name": "stdout"
        }
      ]
    },
    {
      "cell_type": "markdown",
      "metadata": {
        "id": "vAy4W20oMwp3"
      },
      "source": [
        "Para la funcion **Euclidean** con diferentes k se tiene que a mayor numero de **k vecinos mas cercanos** se reduce la valoracion que esta podria tener."
      ]
    },
    {
      "cell_type": "code",
      "metadata": {
        "colab": {
          "base_uri": "https://localhost:8080/"
        },
        "id": "kSfUErfxEMhX",
        "outputId": "2ac3bbff-cc47-466d-d1f2-62599bca991f"
      },
      "source": [
        "print(influence_grade(user,data_movie[100],data,k=3,funtion=euclidean))\n",
        "print(influence_grade(user,data_movie[100],data,k=76,funtion=euclidean))\n",
        "print(influence_grade(user,data_movie[100],data,k=152,funtion=euclidean))\n",
        "print(influence_grade(user,data_movie[100],data,k=305,funtion=euclidean))\n",
        "print(influence_grade(user,data_movie[100],data,k=610,funtion=euclidean))"
      ],
      "execution_count": null,
      "outputs": [
        {
          "output_type": "stream",
          "text": [
            "(\"Mackenna's Gold (1969)\", 3.9)\n",
            "(\"Mackenna's Gold (1969)\", 3.9)\n",
            "(\"Mackenna's Gold (1969)\", 3.9)\n",
            "(\"Mackenna's Gold (1969)\", 3.9)\n",
            "(\"Mackenna's Gold (1969)\", 3.9)\n"
          ],
          "name": "stdout"
        }
      ]
    },
    {
      "cell_type": "markdown",
      "metadata": {
        "id": "a23Cet6pM4sX"
      },
      "source": [
        "Para la funcion **COSENO** con diferentes k se tiene que a mayor numero de **k vecinos mas cercanos** se reduce la valoracion que esta podria tener ya que su primer vecino mas cercano tiene una valoracion muy alta y despues de eso se reduce por la cantidad de vecinos."
      ]
    },
    {
      "cell_type": "code",
      "metadata": {
        "colab": {
          "base_uri": "https://localhost:8080/"
        },
        "id": "pxcuD4YJEW9m",
        "outputId": "de6cb72c-a851-476e-bdf5-0ea30e9add92"
      },
      "source": [
        "print(influence_grade(user,data_movie[1],data,k=1,funtion=cos_python))\n",
        "print(influence_grade(user,data_movie[1],data,k=3,funtion=cos_python))\n",
        "print(influence_grade(user,data_movie[1],data,k=5,funtion=cos_python))\n",
        "print(influence_grade(user,data_movie[1],data,k=76,funtion=cos_python))\n",
        "print(influence_grade(user,data_movie[1],data,k=152,funtion=cos_python))\n",
        "print(influence_grade(user,data_movie[1],data,k=305,funtion=cos_python))\n",
        "print(influence_grade(user,data_movie[1],data,k=610,funtion=cos_python))"
      ],
      "execution_count": null,
      "outputs": [
        {
          "output_type": "stream",
          "text": [
            "('All is Bright (2013)', 1.5)\n",
            "('All is Bright (2013)', 1.5)\n",
            "('All is Bright (2013)', 1.5)\n",
            "('All is Bright (2013)', 1.5)\n",
            "('All is Bright (2013)', 1.5)\n",
            "('All is Bright (2013)', 1.5)\n",
            "('All is Bright (2013)', 1.5)\n"
          ],
          "name": "stdout"
        }
      ]
    },
    {
      "cell_type": "markdown",
      "metadata": {
        "id": "i93E0-qnLCdE"
      },
      "source": [
        "* ### **INGRESE NUEVO USUARIO CON:**\n",
        "  * 25 PELICULAS Y 50 COMPARACIONES PARA PELICULAS NO VISTAS\n",
        "  * 50 PELICULAS Y 100 COMPARACIONES PARA PELICULAS NO VISTAS\n",
        "  * 100 PELICULAS Y 200 COMPARACIONES PARA PELICULAS NO VISTAS\n",
        "  * K = 3\n",
        "  * UMBRAL = 3\n",
        "  * FUNCION = PEARSON"
      ]
    },
    {
      "cell_type": "code",
      "metadata": {
        "id": "KkBTFz3uQ0Ty"
      },
      "source": [
        "data_time = []\n",
        "data_cont = []"
      ],
      "execution_count": null,
      "outputs": []
    },
    {
      "cell_type": "code",
      "metadata": {
        "colab": {
          "base_uri": "https://localhost:8080/"
        },
        "id": "eJKj5UZbNkEZ",
        "outputId": "38c3ae07-8c76-4c25-d99d-66fe3e843d27"
      },
      "source": [
        "data,n_users = insert_user(data,25) #se ingresa al nuevo usuario\n",
        "\"\"\"mostramos la cantidad de peliculas creadas ya que se generan valores random\n",
        "ya que no necesariamente se generan esa cantidad\"\"\"\n",
        "user_tmp = str(n_users)\n",
        "print(\"Con peliculas :\", len(data[str(n_users)].keys())) \n",
        "start = time.time()\n",
        "data_influence = evaluate_influence(user_tmp,data,umbral=3,funtion=pearson_pyt,k=3,cont_film=50)\n",
        "end = time.time()-start\n",
        "data_time.append(end)\n",
        "data_cont.append(len(data_influence))\n",
        "print(\"Tiempo necesario: \",end,\"\\t\\t Cantidad de peliculas recomendadas: \",len(data_influence))\n",
        "for u in data_influence:\n",
        "  print(u)"
      ],
      "execution_count": null,
      "outputs": [
        {
          "output_type": "stream",
          "text": [
            "Nuevo usuario key:  612\n",
            "Con peliculas : 25\n",
            "Tiempo necesario:  0.46288299560546875 \t\t Cantidad de peliculas recomendadas:  26\n",
            "('Bent (1997)', 5.0)\n",
            "('Drained (O cheiro do Ralo) (2006)', 4.7)\n",
            "('Good Luck Chuck (2007)', 4.5)\n",
            "('Shaolin Temple (Shao Lin si) (1976)', 4.5)\n",
            "('3 Days to Kill (2014)', 4.3)\n",
            "('Juno (2007)', 4.3)\n",
            "('Edward Scissorhands (1990)', 4.2)\n",
            "('Just Friends (2005)', 4.2)\n",
            "('Restrepo (2010)', 4.2)\n",
            "('Dark Water (Honogurai mizu no soko kara) (2002)', 4.1)\n",
            "('LBJ (2017)', 4.0)\n",
            "('Finding Neverland (2004)', 4.0)\n",
            "('Sisters (2015)', 4.0)\n",
            "('Big (1988)', 3.8)\n",
            "('Hunt for the Wilderpeople (2016)', 3.8)\n",
            "('Idlewild (2006)', 3.8)\n",
            "('Mr. Death: The Rise and Fall of Fred A. Leuchter- Jr. (1999)', 3.6)\n",
            "('Trance (2013)', 3.6)\n",
            "('Sinbad: Legend of the Seven Seas (2003)', 3.6)\n",
            "('Looking for Richard (1996)', 3.6)\n",
            "('Kung Fu Hustle (Gong fu) (2004)', 3.5)\n",
            "('Doctor Who: Voyage Of The Damned (2007)', 3.5)\n",
            "('Serpent and the Rainbow- The (1988)', 3.4)\n",
            "('Fever Pitch (2005)', 3.2)\n",
            "('Happy Feet (2006)', 3.2)\n",
            "('Source- The (1999)', 3.0)\n"
          ],
          "name": "stdout"
        }
      ]
    },
    {
      "cell_type": "code",
      "metadata": {
        "colab": {
          "base_uri": "https://localhost:8080/"
        },
        "id": "k8O-ObKjQgmx",
        "outputId": "fd723598-f5ee-4eaa-c41a-4f9f88654077"
      },
      "source": [
        "data,n_users = insert_user(data,50) #se ingresa al nuevo usuario\n",
        "\"\"\"mostramos la cantidad de peliculas creadas ya que se generan valores random\n",
        "ya que no necesariamente se generan esa cantidad\"\"\"\n",
        "user_tmp = str(n_users)\n",
        "print(\"Con peliculas :\", len(data[str(n_users)].keys())) \n",
        "start = time.time()\n",
        "data_influence = evaluate_influence(user_tmp,data,umbral=3,funtion=pearson_pyt,k=3,cont_film=100)\n",
        "end = time.time()-start\n",
        "data_time.append(end)\n",
        "data_cont.append(len(data_influence))\n",
        "print(\"Tiempo necesario: \",end,\"\\t\\t Cantidad de peliculas recomendadas: \",len(data_influence))\n",
        "for u in data_influence:\n",
        "  print(u)"
      ],
      "execution_count": null,
      "outputs": [
        {
          "output_type": "stream",
          "text": [
            "Nuevo usuario key:  613\n",
            "Con peliculas : 50\n",
            "Tiempo necesario:  0.9542813301086426 \t\t Cantidad de peliculas recomendadas:  68\n",
            "('Bent (1997)', 5.0)\n",
            "('Jungle Book 2- The (2003)', 4.8)\n",
            "('Return to Never Land (2002)', 4.8)\n",
            "('Swept Away (2002)', 4.7)\n",
            "('Shaolin Temple (Shao Lin si) (1976)', 4.5)\n",
            "('House at the End of the Street (2012)', 4.5)\n",
            "('Oliver & Company (1988)', 4.4)\n",
            "('Dear Zachary: A Letter to a Son About His Father (2008)', 4.4)\n",
            "('Love & Mercy (2014)', 4.4)\n",
            "('All About My Mother (Todo sobre mi madre) (1999)', 4.3)\n",
            "('Rebel Without a Cause (1955)', 4.3)\n",
            "('Private Lives of Pippa Lee- The (2009)', 4.2)\n",
            "('Girl Who Played with Fire- The (Flickan som lekte med elden) (2009)', 4.2)\n",
            "('Winged Migration (Peuple migrateur- Le) (2001)', 4.2)\n",
            "('Hunt for the Wilderpeople (2016)', 4.1)\n",
            "('LBJ (2017)', 4.0)\n",
            "('Drained (O cheiro do Ralo) (2006)', 4.0)\n",
            "('Doctor Who: Voyage Of The Damned (2007)', 4.0)\n",
            "('Old Men: Robbers (1971)', 4.0)\n",
            "('Happy Feet (2006)', 4.0)\n",
            "('Looking for Richard (1996)', 4.0)\n",
            "('Dark Water (Honogurai mizu no soko kara) (2002)', 4.0)\n",
            "('Idlewild (2006)', 4.0)\n",
            "('TV Set- The (2006)', 4.0)\n",
            "('Accidental Tourist- The (1988)', 4.0)\n",
            "('Looney Tunes: Back in Action (2003)', 4.0)\n",
            "('King of Masks- The (Bian Lian) (1996)', 4.0)\n",
            "('White Balloon- The (Badkonake sefid) (1995)', 4.0)\n",
            "('Letter to Three Wives- A (1949)', 4.0)\n",
            "('28 Days Later (2002)', 4.0)\n",
            "('Mr. Death: The Rise and Fall of Fred A. Leuchter- Jr. (1999)', 3.9)\n",
            "('Sinbad: Legend of the Seven Seas (2003)', 3.9)\n",
            "('Manhunter (1986)', 3.9)\n",
            "('In Cold Blood (1967)', 3.9)\n",
            "('Game of Death (1978)', 3.9)\n",
            "('Trance (2013)', 3.8)\n",
            "('Snake Pit- The (1948)', 3.8)\n",
            "('Good Luck Chuck (2007)', 3.7)\n",
            "('Juno (2007)', 3.7)\n",
            "('Rocky Horror Picture Show- The (1975)', 3.7)\n",
            "('Forget Paris (1995)', 3.6)\n",
            "('Kung Fu Hustle (Gong fu) (2004)', 3.6)\n",
            "('Mandela: Long Walk to Freedom (2013)', 3.6)\n",
            "('Monsieur Ibrahim (Monsieur Ibrahim et les fleurs du Coran) (2003)', 3.6)\n",
            "('Big (1988)', 3.5)\n",
            "('The Death of Louis XIV (2016)', 3.5)\n",
            "('Music Man- The (1962)', 3.5)\n",
            "('Impromptu (1991)', 3.5)\n",
            "('Armed and Dangerous (1986)', 3.5)\n",
            "('Harry Potter and the Goblet of Fire (2005)', 3.5)\n",
            "('Finding Neverland (2004)', 3.4)\n",
            "('Restrepo (2010)', 3.4)\n",
            "('Beyond the Valley of the Dolls (1970)', 3.4)\n",
            "('Star Trek Beyond (2016)', 3.3)\n",
            "('Tall Guy- The (1989)', 3.3)\n",
            "('Farewell My Concubine (Ba wang bie ji) (1993)', 3.3)\n",
            "('Edward Scissorhands (1990)', 3.2)\n",
            "('Serpent and the Rainbow- The (1988)', 3.2)\n",
            "('Father of the Bride Part II (1995)', 3.2)\n",
            "('Fandango (1985)', 3.1)\n",
            "('O (2001)', 3.1)\n",
            "('Beasts of No Nation (2015)', 3.0)\n",
            "('For Richer or Poorer (1997)', 3.0)\n",
            "('Turtle Power: The Definitive History of the Teenage Mutant Ninja Turtles (2014)', 3.0)\n",
            "('Together (Han ni Zai Yiki) (2002)', 3.0)\n",
            "('Flashdance (1983)', 3.0)\n",
            "('Power Rangers (2017)', 3.0)\n",
            "('Paint Your Wagon (1969)', 3.0)\n"
          ],
          "name": "stdout"
        }
      ]
    },
    {
      "cell_type": "code",
      "metadata": {
        "colab": {
          "base_uri": "https://localhost:8080/"
        },
        "id": "PYC4EpEZQpjr",
        "outputId": "ba5d7765-69e8-4cb7-952c-1d935d524126"
      },
      "source": [
        "data,n_users = insert_user(data,100) #se ingresa al nuevo usuario\n",
        "\"\"\"mostramos la cantidad de peliculas creadas ya que se generan valores random\n",
        "ya que no necesariamente se generan esa cantidad\"\"\"\n",
        "user_tmp = str(n_users)\n",
        "print(\"Con peliculas :\", len(data[str(n_users)].keys())) \n",
        "start = time.time()\n",
        "data_influence = evaluate_influence(user_tmp,data,umbral=3,funtion=pearson_pyt,k=3,cont_film=200)\n",
        "end = time.time()-start\n",
        "data_time.append(end)\n",
        "data_cont.append(len(data_influence))\n",
        "print(\"Tiempo necesario: \",end,\"\\t\\t Cantidad de peliculas recomendadas: \",len(data_influence))\n",
        "for u in data_influence:\n",
        "  print(u)"
      ],
      "execution_count": null,
      "outputs": [
        {
          "output_type": "stream",
          "text": [
            "Nuevo usuario key:  614\n",
            "Con peliculas : 100\n",
            "Tiempo necesario:  1.9646828174591064 \t\t Cantidad de peliculas recomendadas:  138\n",
            "('Bent (1997)', 5.0)\n",
            "('Jungle Book 2- The (2003)', 4.8)\n",
            "('Return to Never Land (2002)', 4.8)\n",
            "('Verdict- The (1982)', 4.7)\n",
            "('City Lights (1931)', 4.6)\n",
            "('Shaolin Temple (Shao Lin si) (1976)', 4.5)\n",
            "('Looney Tunes: Back in Action (2003)', 4.5)\n",
            "('28 Days Later (2002)', 4.5)\n",
            "(\"Internet's Own Boy: The Story of Aaron Swartz- The (2014)\", 4.5)\n",
            "('Blow (2001)', 4.5)\n",
            "('Anchorman: The Legend of Ron Burgundy (2004)', 4.5)\n",
            "('Killer Joe (2011)', 4.5)\n",
            "(\"Tyler Perry's I Can Do Bad All by Myself (2009)\", 4.5)\n",
            "('Mr. Death: The Rise and Fall of Fred A. Leuchter- Jr. (1999)', 4.4)\n",
            "('Barfly (1987)', 4.4)\n",
            "('Triplets of Belleville- The (Les triplettes de Belleville) (2003)', 4.4)\n",
            "('3 Days to Kill (2014)', 4.3)\n",
            "('Drained (O cheiro do Ralo) (2006)', 4.3)\n",
            "('Big (1988)', 4.3)\n",
            "('Juno (2007)', 4.3)\n",
            "('Dark Water (Honogurai mizu no soko kara) (2002)', 4.3)\n",
            "('Love & Mercy (2014)', 4.3)\n",
            "('Game of Death (1978)', 4.3)\n",
            "('Dead or Alive: Hanzaisha (1999)', 4.3)\n",
            "('Mystery Science Theater 3000: The Movie (1996)', 4.3)\n",
            "('Stagecoach (1939)', 4.2)\n",
            "('Edward Scissorhands (1990)', 4.2)\n",
            "('Letter to Three Wives- A (1949)', 4.2)\n",
            "('Before Sunrise (1995)', 4.2)\n",
            "(\"Prizzi's Honor (1985)\", 4.2)\n",
            "('Bank Job- The (2008)', 4.2)\n",
            "('King of Masks- The (Bian Lian) (1996)', 4.1)\n",
            "('House at the End of the Street (2012)', 4.1)\n",
            "('Hacksaw Ridge (2016)', 4.1)\n",
            "('Down and Out in Beverly Hills (1986)', 4.1)\n",
            "('The Way (2010)', 4.1)\n",
            "('LBJ (2017)', 4.0)\n",
            "('TV Set- The (2006)', 4.0)\n",
            "('Accidental Tourist- The (1988)', 4.0)\n",
            "('White Balloon- The (Badkonake sefid) (1995)', 4.0)\n",
            "('Girl Who Played with Fire- The (Flickan som lekte med elden) (2009)', 4.0)\n",
            "('The Hunger Games: Mockingjay - Part 1 (2014)', 4.0)\n",
            "('Nelly & Monsieur Arnaud (1995)', 4.0)\n",
            "('Pinocchio (1940)', 4.0)\n",
            "('Trance (2013)', 3.9)\n",
            "('Sinbad: Legend of the Seven Seas (2003)', 3.9)\n",
            "('Mandela: Long Walk to Freedom (2013)', 3.9)\n",
            "('Dersu Uzala (1975)', 3.9)\n",
            "('Way Back- The (2010)', 3.9)\n",
            "('Bill Cunningham New York (2011)', 3.9)\n",
            "('Raining Stones (1993)', 3.9)\n",
            "('Kung Fu Hustle (Gong fu) (2004)', 3.8)\n",
            "('Hunt for the Wilderpeople (2016)', 3.8)\n",
            "('Winged Migration (Peuple migrateur- Le) (2001)', 3.8)\n",
            "('Harry Potter and the Goblet of Fire (2005)', 3.8)\n",
            "('Ant-Man (2015)', 3.8)\n",
            "('Robin Hood (2010)', 3.8)\n",
            "('Doctor Who: The Doctor- the Widow and the Wardrobe (2011)', 3.8)\n",
            "('The Meyerowitz Stories (2017)', 3.8)\n",
            "(\"Snake in the Eagle's Shadow (Se ying diu sau) (1978)\", 3.8)\n",
            "('Fort Tilden (2014)', 3.8)\n",
            "('Forget Paris (1995)', 3.7)\n",
            "('Doctor Who: Voyage Of The Damned (2007)', 3.7)\n",
            "('Impromptu (1991)', 3.7)\n",
            "('Rebel Without a Cause (1955)', 3.7)\n",
            "('Farewell My Concubine (Ba wang bie ji) (1993)', 3.7)\n",
            "('Never Cry Wolf (1983)', 3.7)\n",
            "(\"Angela's Ashes (1999)\", 3.7)\n",
            "('Nosferatu the Vampyre (Nosferatu: Phantom der Nacht) (1979)', 3.7)\n",
            "('Money Talks (1997)', 3.7)\n",
            "('Magdalene Sisters- The (2002)', 3.7)\n",
            "('Moscow Does Not Believe in Tears (Moskva slezam ne verit) (1979)', 3.7)\n",
            "('Escape from L.A. (1996)', 3.7)\n",
            "('Restrepo (2010)', 3.6)\n",
            "('Affair to Remember- An (1957)', 3.6)\n",
            "('Private Lives of Pippa Lee- The (2009)', 3.6)\n",
            "('Monsieur Ibrahim (Monsieur Ibrahim et les fleurs du Coran) (2003)', 3.6)\n",
            "(\"It's Complicated (2009)\", 3.6)\n",
            "('Tetsuo- the Ironman (Tetsuo) (1988)', 3.6)\n",
            "('Stalingrad (1993)', 3.6)\n",
            "('American Outlaws (2001)', 3.6)\n",
            "('V. I. Warshawski (1991)', 3.6)\n",
            "('Anastasia (1997)', 3.6)\n",
            "('Dorian Gray (2009)', 3.6)\n",
            "('Puss in Boots (Nagagutsu o haita neko) (1969)', 3.6)\n",
            "('Oliver & Company (1988)', 3.5)\n",
            "('Human Stain- The (2003)', 3.5)\n",
            "('War and Peace (1956)', 3.5)\n",
            "('Tristan & Isolde (2006)', 3.5)\n",
            "('TMNT (Teenage Mutant Ninja Turtles) (2007)', 3.5)\n",
            "('Star Trek Beyond (2016)', 3.4)\n",
            "('Idlewild (2006)', 3.4)\n",
            "('Father of the Bride Part II (1995)', 3.4)\n",
            "('Dear Zachary: A Letter to a Son About His Father (2008)', 3.4)\n",
            "('Armed and Dangerous (1986)', 3.4)\n",
            "('Descent- The (2005)', 3.4)\n",
            "('Old Men: Robbers (1971)', 3.3)\n",
            "('Happy Feet (2006)', 3.3)\n",
            "('O (2001)', 3.3)\n",
            "(\"Mackenna's Gold (1969)\", 3.3)\n",
            "('Strange Magic (2015)', 3.3)\n",
            "('A German Life (2016)', 3.3)\n",
            "('Too Many Cooks (2014)', 3.3)\n",
            "('Funny Girl (1968)', 3.3)\n",
            "('Rugrats in Paris: The Movie (2000)', 3.3)\n",
            "('Serpent and the Rainbow- The (1988)', 3.2)\n",
            "('Good Luck Chuck (2007)', 3.2)\n",
            "('Looking for Richard (1996)', 3.2)\n",
            "('Together (Han ni Zai Yiki) (2002)', 3.2)\n",
            "('In Cold Blood (1967)', 3.2)\n",
            "('Swept Away (2002)', 3.2)\n",
            "('Music Man- The (1962)', 3.2)\n",
            "('Mimino (1977)', 3.2)\n",
            "('Beyond the Clouds (Al di lÃ\\xa0 delle nuvole) (1996)', 3.2)\n",
            "('Tommy (1975)', 3.2)\n",
            "('The Unauthorized Saved by the Bell Story (2014)', 3.2)\n",
            "('Cobb (1994)', 3.2)\n",
            "('Infamous (2006)', 3.2)\n",
            "('Snow White (1916)', 3.2)\n",
            "('Barbarians at the Gate (1993)', 3.1)\n",
            "(\"Don't Tell Mom the Babysitter's Dead (1991)\", 3.1)\n",
            "('Fandango (1985)', 3.1)\n",
            "('Unstrung Heroes (1995)', 3.1)\n",
            "(\"Ulee's Gold (1997)\", 3.1)\n",
            "('Recount (2008)', 3.1)\n",
            "('How the Grinch Stole Christmas (a.k.a. The Grinch) (2000)', 3.1)\n",
            "('1984 (Nineteen Eighty-Four) (1984)', 3.1)\n",
            "('Exodus: Gods and Kings (2014)', 3.1)\n",
            "('Far and Away (1992)', 3.1)\n",
            "('Jimmy Neutron: Boy Genius (2001)', 3.1)\n",
            "('Chill Factor (1999)', 3.0)\n",
            "('Sisters (2015)', 3.0)\n",
            "('Manhunter (1986)', 3.0)\n",
            "('All About My Mother (Todo sobre mi madre) (1999)', 3.0)\n",
            "('Killing Them Softly (2012)', 3.0)\n",
            "('Princess Diaries 2: Royal Engagement- The (2004)', 3.0)\n",
            "('Flight of the Phoenix (2004)', 3.0)\n",
            "('Matinee (1993)', 3.0)\n"
          ],
          "name": "stdout"
        }
      ]
    },
    {
      "cell_type": "code",
      "metadata": {
        "colab": {
          "base_uri": "https://localhost:8080/"
        },
        "id": "Vf0M6HPRTD-9",
        "outputId": "e8cc5218-b82c-4401-c0c1-6489bfe9b199"
      },
      "source": [
        "data,n_users = insert_user(data,100) #se ingresa al nuevo usuario\n",
        "\"\"\"mostramos la cantidad de peliculas creadas ya que se generan valores random\n",
        "ya que no necesariamente se generan esa cantidad\"\"\"\n",
        "user_tmp = str(n_users)\n",
        "print(\"Con peliculas :\", len(data[str(n_users)].keys())) \n",
        "start = time.time()\n",
        "data_influence = evaluate_influence(user_tmp,data,umbral=3,funtion=pearson_pyt,k=3,cont_film=100)\n",
        "end = time.time()-start\n",
        "data_time.append(end)\n",
        "data_cont.append(len(data_influence))\n",
        "print(\"Tiempo necesario: \",end,\"\\t\\t Cantidad de peliculas recomendadas: \",len(data_influence))\n",
        "for u in data_influence:\n",
        "  print(u)"
      ],
      "execution_count": null,
      "outputs": [
        {
          "output_type": "stream",
          "text": [
            "Nuevo usuario key:  615\n",
            "Con peliculas : 100\n",
            "Tiempo necesario:  1.0176537036895752 \t\t Cantidad de peliculas recomendadas:  63\n",
            "('Bent (1997)', 5.0)\n",
            "('Impromptu (1991)', 4.9)\n",
            "('Jungle Book 2- The (2003)', 4.8)\n",
            "('Return to Never Land (2002)', 4.8)\n",
            "('Drained (O cheiro do Ralo) (2006)', 4.7)\n",
            "('Love & Mercy (2014)', 4.7)\n",
            "('Shaolin Temple (Shao Lin si) (1976)', 4.5)\n",
            "('Girl Who Played with Fire- The (Flickan som lekte med elden) (2009)', 4.5)\n",
            "('Hunt for the Wilderpeople (2016)', 4.4)\n",
            "('28 Days Later (2002)', 4.3)\n",
            "('Rebel Without a Cause (1955)', 4.3)\n",
            "('Private Lives of Pippa Lee- The (2009)', 4.2)\n",
            "('Dark Water (Honogurai mizu no soko kara) (2002)', 4.1)\n",
            "('Looney Tunes: Back in Action (2003)', 4.1)\n",
            "('House at the End of the Street (2012)', 4.1)\n",
            "('21 and Over (2013)', 4.1)\n",
            "('LBJ (2017)', 4.0)\n",
            "('First Beautiful Thing- The (La prima cosa bella) (2010)', 4.0)\n",
            "('Doctor Who: Voyage Of The Damned (2007)', 4.0)\n",
            "('Looking for Richard (1996)', 4.0)\n",
            "('TV Set- The (2006)', 4.0)\n",
            "('Andrew Dice Clay: Dice Rules (1991)', 4.0)\n",
            "('King of Masks- The (Bian Lian) (1996)', 4.0)\n",
            "('Game of Death (1978)', 4.0)\n",
            "('White Balloon- The (Badkonake sefid) (1995)', 4.0)\n",
            "('Letter to Three Wives- A (1949)', 4.0)\n",
            "('Armed and Dangerous (1986)', 4.0)\n",
            "('Winged Migration (Peuple migrateur- Le) (2001)', 4.0)\n",
            "('Good Luck Chuck (2007)', 3.9)\n",
            "('Old Men: Robbers (1971)', 3.9)\n",
            "('Manhunter (1986)', 3.9)\n",
            "('Mandela: Long Walk to Freedom (2013)', 3.9)\n",
            "('Farewell My Concubine (Ba wang bie ji) (1993)', 3.9)\n",
            "('Serpent and the Rainbow- The (1988)', 3.8)\n",
            "('Sinbad: Legend of the Seven Seas (2003)', 3.8)\n",
            "('Father of the Bride Part II (1995)', 3.8)\n",
            "('Monsieur Ibrahim (Monsieur Ibrahim et les fleurs du Coran) (2003)', 3.8)\n",
            "('O (2001)', 3.8)\n",
            "('Stagecoach (1939)', 3.7)\n",
            "('Kung Fu Hustle (Gong fu) (2004)', 3.7)\n",
            "('Big (1988)', 3.7)\n",
            "('In Cold Blood (1967)', 3.7)\n",
            "('Trance (2013)', 3.6)\n",
            "('Edward Scissorhands (1990)', 3.5)\n",
            "('Music Man- The (1962)', 3.5)\n",
            "('Harry Potter and the Goblet of Fire (2005)', 3.5)\n",
            "('Mr. Death: The Rise and Fall of Fred A. Leuchter- Jr. (1999)', 3.4)\n",
            "('Affair to Remember- An (1957)', 3.4)\n",
            "('Juno (2007)', 3.3)\n",
            "('The Death of Louis XIV (2016)', 3.3)\n",
            "('Snake Pit- The (1948)', 3.2)\n",
            "('All About My Mother (Todo sobre mi madre) (1999)', 3.2)\n",
            "('Fandango (1985)', 3.2)\n",
            "('Star Trek Beyond (2016)', 3.1)\n",
            "('Accidental Tourist- The (1988)', 3.1)\n",
            "('Forget Paris (1995)', 3.0)\n",
            "('Tall Guy- The (1989)', 3.0)\n",
            "('Beasts of No Nation (2015)', 3.0)\n",
            "('White Oleander (2002)', 3.0)\n",
            "('Restrepo (2010)', 3.0)\n",
            "('Oliver & Company (1988)', 3.0)\n",
            "('Together (Han ni Zai Yiki) (2002)', 3.0)\n",
            "('Power Rangers (2017)', 3.0)\n"
          ],
          "name": "stdout"
        }
      ]
    },
    {
      "cell_type": "markdown",
      "metadata": {
        "id": "uONniNjjSWOF"
      },
      "source": [
        "**Grafico de barras del tiempo**\\\n",
        "El analisis de tiempo indica como este aumenta de forma gradual con forme la cantidad de datos que se busca recomendar."
      ]
    },
    {
      "cell_type": "code",
      "metadata": {
        "colab": {
          "base_uri": "https://localhost:8080/",
          "height": 281
        },
        "id": "9cij_eD4Qupu",
        "outputId": "131331d4-4cc0-4da0-a64f-e74fbfce5853"
      },
      "source": [
        "fig, ax = plt.subplots()\n",
        "ax.bar(data_cont,data_time)\n",
        "plt.plot(data_cont,data_time)"
      ],
      "execution_count": null,
      "outputs": [
        {
          "output_type": "execute_result",
          "data": {
            "text/plain": [
              "[<matplotlib.lines.Line2D at 0x7f0773ccbb10>]"
            ]
          },
          "metadata": {
            "tags": []
          },
          "execution_count": 26
        },
        {
          "output_type": "display_data",
          "data": {
            "image/png": "[encoded data removed]",
            "text/plain": [
              "<Figure size 432x288 with 1 Axes>"
            ]
          },
          "metadata": {
            "tags": [],
            "needs_background": "light"
          }
        }
      ]
    },
    {
      "cell_type": "markdown",
      "metadata": {
        "id": "eUDjFaxhTj7_"
      },
      "source": [
        "# **ANALISIS**"
      ]
    },
    {
      "cell_type": "markdown",
      "metadata": {
        "id": "fh67U8oRUHtr"
      },
      "source": [
        "## **Escalabilidad del sistema**\n",
        "\n",
        "* Los atributos que está considerando procesar\n",
        "  * **MovieLens 100K** se procesaran los archivos Movie y Ratings, en ambos casos solo 3 campos:\n",
        "    * Archivo Ratings (id_user,movie_id,rating)\n",
        "    * Archivo Movies (movie_id,title,tag)\n",
        "  * **MovieLens 1M** se procesaran los archivos Movie y Ratings, en ambos casos solo 3 campos:\n",
        "    * Archivo Ratings (id_user,movie_id,rating)\n",
        "    * Archivo Movies (movie_id,title,tag)\n",
        "\n",
        "* El número de registros que ingresan a sus diferentes funciones\n",
        "  * **MovieLens 100K** en cada funcion ingresan dos arreglos con la cantidad de peliculas calificadas por dos usuarios.\n",
        "  * **MovieLens 1M** en cada funcion ingresan dos arreglos con la cantidad de peliculas calificadas por dos usuarios.\n",
        "* La dimensionalidad de los registros que ingresan a sus diferentes funciones.\n",
        "  * **MovieLens 100K**: la dimension de los registros es de 2 ya que se enumeran como pares de elementos (id_movie,rating) esto ubicado en un arreglo\n",
        "  * **MovieLens 1M**: la dimension de los registros es de 2 ya que se enumeran como pares de elementos (id_movie,rating) esto ubicado en un arreglo\n",
        "* El tiempo de ejecución para cada función\n",
        "  * MovieLens 100K\n",
        "    * Usuario 414 con 2698 peliculas\n",
        "    * Manhattan: Usuario 414 con extraccion de 100 y 200 peliculas recomendadas\n",
        "    * Euclidean: Usuario 414 con extraccion de 100 y 200 peliculas recomendadas\n",
        "    * Pearson: Usuario 414 con extraccion de 100 y 200 peliculas recomendadas\n",
        "    * Coseno: Usuario 414 con extraccion de 100 y 200 peliculas recomendadas\n",
        "  * MovieLens 1M \n",
        "    * Usuario 4169 con 2314 peliculas\n",
        "    * Manhattan: Usuario 4169 con extraccion de 100 y 200 peliculas recomendadas\n",
        "    * Euclidean: Usuario 4169 con extraccion de 100 y 200 peliculas recomendadas\n",
        "    * Pearson: Usuario 4169 con extraccion de 100 y 200 peliculas recomendadas\n",
        "    * Coseno: Usuario 4169 con extraccion de 100 y 200 peliculas recomendadas\n"
      ]
    },
    {
      "cell_type": "code",
      "metadata": {
        "id": "GqwgHqsQUdhK"
      },
      "source": [
        "def time_med(user,users,fun,cont_film=100,umbral=3):\n",
        "  d_t = []\n",
        "  d_d = []\n",
        "  data_movie = list(set(list(data_movies.keys())).symmetric_difference(list(data[user].keys())))[:cont_film]\n",
        "  data_movie.sort(key = int) #Ordenamos por orden de pelicula\n",
        "  for movie_id in data_movie:\n",
        "      #medimos el tiempo en esta seccion para cada pelicula recomendada\n",
        "      t_start = time.time()\n",
        "      name,point = influence_grade(user,movie_id,users,funtion=fun)\n",
        "      if point>=umbral:\n",
        "        d_d.append(int(movie_id))\n",
        "        d_t.append(time.time()-t_start)\n",
        "  return d_d,d_t\n"
      ],
      "execution_count": null,
      "outputs": []
    },
    {
      "cell_type": "markdown",
      "metadata": {
        "id": "0F7YcrIV8EP9"
      },
      "source": [
        "En esta seccion Analizamos al Usuario 414 con cada funcion de distancia y correlacion, evaluado a 100 peliculas. Usando la base de datos con 100K de ratings\n",
        "\n",
        "\\\n",
        "\n",
        "Los resultados muestran que las funciones de pearson como anteriormente ya vimos tarda mas que las otras funciones que realizan menores operaciones algebraicas"
      ]
    },
    {
      "cell_type": "code",
      "metadata": {
        "colab": {
          "base_uri": "https://localhost:8080/",
          "height": 283
        },
        "id": "bf0buYLm7a7R",
        "outputId": "8206bc46-a753-4d4c-af28-e714d5d4dcd1"
      },
      "source": [
        "d_man,t_man = time_med('414',data,manhattan,100)\n",
        "d_euc,t_euc = time_med('414',data,euclidean,100)\n",
        "d_pea,t_pea = time_med('414',data,pearson_pyt,100)\n",
        "d_cos,t_cos = time_med('414',data,cos_python,100)\n",
        "\n",
        "plt.plot(d_man,t_man,label=\"Manhattan\")\n",
        "plt.plot(d_euc,t_euc,label=\"Euclidean\")\n",
        "plt.plot(d_pea,t_pea,label=\"Pearson\")\n",
        "plt.plot(d_cos,t_cos,label=\"Cos\")\n",
        "plt.legend()"
      ],
      "execution_count": null,
      "outputs": [
        {
          "output_type": "execute_result",
          "data": {
            "text/plain": [
              "<matplotlib.legend.Legend at 0x7f07737d7590>"
            ]
          },
          "metadata": {
            "tags": []
          },
          "execution_count": 28
        },
        {
          "output_type": "display_data",
          "data": {
            "image/png": "[encoded data removed]",
            "text/plain": [
              "<Figure size 432x288 with 1 Axes>"
            ]
          },
          "metadata": {
            "tags": [],
            "needs_background": "light"
          }
        }
      ]
    },
    {
      "cell_type": "markdown",
      "metadata": {
        "id": "pEJXe8Ag8l8V"
      },
      "source": [
        "Caso evaluado con relacion a 200 peliculas recomendadas al usuario 414. En este caso se puede observar que la funcion manhattan tarda mas cuando los datos se encuentran mas dispersos."
      ]
    },
    {
      "cell_type": "code",
      "metadata": {
        "colab": {
          "base_uri": "https://localhost:8080/",
          "height": 281
        },
        "id": "f_iiO_yo7aHf",
        "outputId": "d39067d8-53ce-49f0-e0b8-86f172ecdbd1"
      },
      "source": [
        "d_man,t_man = time_med('414',data,manhattan,200)\n",
        "d_euc,t_euc = time_med('414',data,euclidean,200)\n",
        "d_pea,t_pea = time_med('414',data,pearson_pyt,200)\n",
        "d_cos,t_cos = time_med('414',data,cos_python,200)\n",
        "\n",
        "plt.plot(d_man,t_man,label=\"Manhattan\")\n",
        "plt.plot(d_euc,t_euc,label=\"Euclidean\")\n",
        "plt.plot(d_pea,t_pea,label=\"Pearson\")\n",
        "plt.plot(d_cos,t_cos,label=\"Cos\")\n",
        "plt.legend()"
      ],
      "execution_count": null,
      "outputs": [
        {
          "output_type": "execute_result",
          "data": {
            "text/plain": [
              "<matplotlib.legend.Legend at 0x7f07737067d0>"
            ]
          },
          "metadata": {
            "tags": []
          },
          "execution_count": 29
        },
        {
          "output_type": "display_data",
          "data": {
            "image/png": "[encoded data removed]",
            "text/plain": [
              "<Figure size 432x288 with 1 Axes>"
            ]
          },
          "metadata": {
            "tags": [],
            "needs_background": "light"
          }
        }
      ]
    },
    {
      "cell_type": "markdown",
      "metadata": {
        "id": "4A11pweT9PTX"
      },
      "source": [
        "En esta seccion Analizamos al Usuario 4169 con cada funcion de distancia y correlacion, evaluado a 100 peliculas. Usando la base de datos con 1M de ratings\n",
        "\n",
        "\\\n",
        "\n",
        "En este caso las funciones tardan mas tiempo ya que la cantidad de ratings por usuario aumentaron por lo cual se realizan mas operaciones."
      ]
    },
    {
      "cell_type": "code",
      "metadata": {
        "colab": {
          "base_uri": "https://localhost:8080/",
          "height": 281
        },
        "id": "ORdGWbR57wGb",
        "outputId": "a8b2b6e4-9148-4922-c8f2-e22bfb96d1ce"
      },
      "source": [
        "d_man,t_man = time_med('4169',data_1m,manhattan,100)\n",
        "d_euc,t_euc = time_med('4169',data_1m,euclidean,100)\n",
        "d_pea,t_pea = time_med('4169',data_1m,pearson_pyt,100)\n",
        "d_cos,t_cos = time_med('4169',data_1m,cos_python,100)\n",
        "\n",
        "plt.plot(d_man,t_man,label=\"Manhattan\")\n",
        "plt.plot(d_euc,t_euc,label=\"Euclidean\")\n",
        "plt.plot(d_pea,t_pea,label=\"Pearson\")\n",
        "plt.plot(d_cos,t_cos,label=\"Cos\")\n",
        "plt.legend()"
      ],
      "execution_count": null,
      "outputs": [
        {
          "output_type": "execute_result",
          "data": {
            "text/plain": [
              "<matplotlib.legend.Legend at 0x7f07736e6a90>"
            ]
          },
          "metadata": {
            "tags": []
          },
          "execution_count": 30
        },
        {
          "output_type": "display_data",
          "data": {
            "image/png": "[encoded data removed]",
            "text/plain": [
              "<Figure size 432x288 with 1 Axes>"
            ]
          },
          "metadata": {
            "tags": [],
            "needs_background": "light"
          }
        }
      ]
    },
    {
      "cell_type": "markdown",
      "metadata": {
        "id": "dakGFoim9s0b"
      },
      "source": [
        "Evaluando 200 peliculas recomendadas para el usuario 4169."
      ]
    },
    {
      "cell_type": "code",
      "metadata": {
        "colab": {
          "base_uri": "https://localhost:8080/",
          "height": 281
        },
        "id": "2GYLqcR57vyt",
        "outputId": "13d542c3-1227-4210-b632-3ff0745c4a14"
      },
      "source": [
        "d_man,t_man = time_med('4169',data_1m,manhattan,200)\n",
        "d_euc,t_euc = time_med('4169',data_1m,euclidean,200)\n",
        "d_pea,t_pea = time_med('4169',data_1m,pearson_pyt,200)\n",
        "d_cos,t_cos = time_med('4169',data_1m,cos_python,200)\n",
        "\n",
        "plt.plot(d_man,t_man,label=\"Manhattan\")\n",
        "plt.plot(d_euc,t_euc,label=\"Euclidean\")\n",
        "plt.plot(d_pea,t_pea,label=\"Pearson\")\n",
        "plt.plot(d_cos,t_cos,label=\"Cos\")\n",
        "plt.legend()"
      ],
      "execution_count": null,
      "outputs": [
        {
          "output_type": "execute_result",
          "data": {
            "text/plain": [
              "<matplotlib.legend.Legend at 0x7f07737acc10>"
            ]
          },
          "metadata": {
            "tags": []
          },
          "execution_count": 31
        },
        {
          "output_type": "display_data",
          "data": {
            "image/png": "[encoded data removed]",
            "text/plain": [
              "<Figure size 432x288 with 1 Axes>"
            ]
          },
          "metadata": {
            "tags": [],
            "needs_background": "light"
          }
        }
      ]
    },
    {
      "cell_type": "markdown",
      "metadata": {
        "id": "WSwW-ruiFsmj"
      },
      "source": [
        "## **Esparcidad de los Datos**\n",
        "\n",
        "La matriz esparza generada por el dataset tiene las dimensiones de:\n",
        "* filas  = Numero de Usuarios\n",
        "* columnas = Numero de peliculas\n",
        "\n",
        "Al encontrarse almacenada en diccionarios esta no retiene valores innecesarios, solo los datos que se registran es decir ningun valor **nan**\n",
        "\n",
        "\\\n",
        "\n",
        "**Datos ingresados a las funciones**\\\n",
        "Los datos que ingresan a las funciones de distancia y correlacion son dos vectores de filas uno por cada usuario. Asi mismo dentro de las funciones solo se relacionan los valores de las intersecciones de los vectores.\n",
        "\n",
        "**Las dimensiones que se procesan son:** 2 dimensiones. Al estar indexado por id_usuarios y id_peliculas es mas facil extraer los datos.\n"
      ]
    },
    {
      "cell_type": "code",
      "metadata": {
        "colab": {
          "base_uri": "https://localhost:8080/"
        },
        "id": "7rEY4F8qI3cp",
        "outputId": "8465f1f4-fbb1-4d36-9019-d122ee4023bb"
      },
      "source": [
        "# MEJOR CASO\n",
        "start = time.time()\n",
        "evaluate_influence('414',data,cont_film=10,funtion=manhattan)\n",
        "print(time.time()-start)"
      ],
      "execution_count": null,
      "outputs": [
        {
          "output_type": "stream",
          "text": [
            "0.24724626541137695\n"
          ],
          "name": "stdout"
        }
      ]
    },
    {
      "cell_type": "code",
      "metadata": {
        "colab": {
          "base_uri": "https://localhost:8080/"
        },
        "id": "pxgWJ4-MI_aA",
        "outputId": "0d802402-88b7-40d0-becf-ca8a5e5a5ef5"
      },
      "source": [
        "# MEDIO CASO\n",
        "# MEJOR CASO\n",
        "start = time.time()\n",
        "evaluate_influence('414',data,cont_film=1000,funtion=manhattan)\n",
        "print(time.time()-start)"
      ],
      "execution_count": null,
      "outputs": [
        {
          "output_type": "stream",
          "text": [
            "23.26235270500183\n"
          ],
          "name": "stdout"
        }
      ]
    },
    {
      "cell_type": "code",
      "metadata": {
        "colab": {
          "base_uri": "https://localhost:8080/"
        },
        "id": "2ZdldGoLJDHm",
        "outputId": "c906bb11-cb1a-4b65-a001-c20a5db5a1a3"
      },
      "source": [
        "# PEOR CASO\n",
        "# MEJOR CASO\n",
        "start = time.time()\n",
        "evaluate_influence('414',data,cont_film=5000,funtion=manhattan)\n",
        "print(time.time()-start)\n"
      ],
      "execution_count": null,
      "outputs": [
        {
          "output_type": "stream",
          "text": [
            "115.35088968276978\n"
          ],
          "name": "stdout"
        }
      ]
    },
    {
      "cell_type": "markdown",
      "metadata": {
        "id": "QuQNGf9kCVmT"
      },
      "source": [
        "**Conclusion de mejor, medio y peor caso**\\\n",
        "Como se puede ver el tiempo promedio de la prediccion de puntuacion por pelicula es de una decima de segundo por lo tanto mientras mas peliculas se desee recomendar el tiempo de prediccion tarda mas.\n"
      ]
    },
    {
      "cell_type": "code",
      "metadata": {
        "colab": {
          "base_uri": "https://localhost:8080/"
        },
        "id": "s1imdR-Ke0h0",
        "outputId": "a2b9f46d-b4c5-4fe2-951f-497bba104879"
      },
      "source": [
        "a_size = []\n",
        "a_siz = []\n",
        "for i in data:\n",
        "  a_size.append((len(data[i].keys()),i))\n",
        "  a_siz.append(len(data[i].keys()))\n",
        "a_size.sort()\n",
        "print(min(a_size))\n",
        "print(max(a_size))\n"
      ],
      "execution_count": null,
      "outputs": [
        {
          "output_type": "stream",
          "text": [
            "(0, '4169')\n",
            "(8517, '611')\n"
          ],
          "name": "stdout"
        }
      ]
    },
    {
      "cell_type": "code",
      "metadata": {
        "colab": {
          "base_uri": "https://localhost:8080/"
        },
        "id": "K7VMwzRU1Nfp",
        "outputId": "44941c7b-1919-4c0a-c8e9-4534c54b5441"
      },
      "source": [
        "a_size = []\n",
        "a_siz = []\n",
        "for i in data_1m:\n",
        "  a_size.append((len(data_1m[i].keys()),i))\n",
        "  a_siz.append(len(data_1m[i].keys()))\n",
        "a_size.sort()\n",
        "print(min(a_size))\n",
        "print(max(a_size))\n"
      ],
      "execution_count": null,
      "outputs": [
        {
          "output_type": "stream",
          "text": [
            "(20, '1351')\n",
            "(2314, '4169')\n"
          ],
          "name": "stdout"
        }
      ]
    },
    {
      "cell_type": "markdown",
      "metadata": {
        "id": "PX_PtxSEDUGO"
      },
      "source": [
        "# **Proponer otras medidas para analizar la esparcidad y escalabilidad de los datos**\n",
        "\n",
        "1.   **Para datos binarios**\n",
        "  * Emparejamiento simple [0,1] = $\\frac{a+d}{a+b+c+d}$\n",
        "  * Yule2 [-1,1] = $\\frac{\\sqrt{ad} - \\sqrt{bc}}{\\sqrt{ad} + \\sqrt{bc}}$\n",
        "2.   **Para datos cuantitativos**\n",
        "  * Bray-Curtis = $\\frac{\\sum_{i=1}^{T}|x_{1i}-x_{2i}|}{\\sum_{i=1}^{T}(x_{1i}+x_{2i})}$\n",
        "  * Minkowski = $\\sqrt[q]{\\sum_{i=1}^{T}|x_{1i}-x_{2i}|^q}$\n",
        "\n"
      ]
    },
    {
      "cell_type": "markdown",
      "metadata": {
        "id": "o1knYGFYPgcw"
      },
      "source": [
        "# **Qué es, cuál es el comportamiento matemático y cuando se usa cada medida se similitud y correlación**\n",
        "\n",
        "1. **Correlacion de Pearson**\n",
        "En general la correlación es usada para calcular la asociación entre variables (rasgos) cuando la mayoría, si no todos, presentan más de dos estados, esto la hace apropiada para cuantificar las distancias existentes entre columnas de la matriz .\n",
        "2. **Similitud del Coseno**\n",
        "Es una medida de la similitud existente entre dos vectores en un espacio que posee un producto interior con el que se evalúa el valor del coseno del ángulo comprendido entre ellos.\n",
        "La complejidad de esta medida es cuadrática, lo cual la hace completamente aplicable a problemas del mundo real. \n",
        "\n",
        "3. **Manhattan**\n",
        "La distancia de Manhattan, calculada como la suma de las diferencias absolutas entre unidades para cada variable. Es menos sensible a valores muy grandes o aberrantes, ya que es función de diferencias absolutas en lugar de diferencias al cuadrado, adicionalmente cada variable puede ser estandarizada por su rango.\n",
        "4. **Euclidean**\n",
        "Cualquier variable estará acotada en el intervalo (0,1). Además puede dividirse\n",
        "por la cantidad de variables obteniendo una distancia media que oscilará en este rango y facilita su conversión a similaridad. Esta presenta varios inconvenientes: no está acotada, es sensible a cambios de escalas."
      ]
    },
    {
      "cell_type": "markdown",
      "metadata": {
        "id": "PDNkyjkkVEZT"
      },
      "source": [
        "**REFERENCIA**\n",
        "\n",
        "Demey, Jhonny & Pla, Laura & Vicente Villardon, Jose Luis & Di Rienzo, Julio & Casanoves, Fernando. (2011). MEDIDAS DE DISTANCIA Y SIMILITUD. "
      ]
    },
    {
      "cell_type": "markdown",
      "metadata": {
        "id": "C26E2OGQPZC3"
      },
      "source": [
        "#**Conclusiones**\n",
        "1. Las medidas de distancia son mas eficientes cuando estas realizan menos operaciones algebraicas, esto ya que todas las funciones usan las intersecciones de las listas.\n",
        "2. Tener los elementos indexados por dos lados ayuda a encontrar de forma mas rapida los elementos de la interseccion.\n",
        "3. Para recomendar y predecir la puntuacion de un usuario frente a peliculas que no vio puede tardar una cantidad considerable de tiempo ya que evalua (todas las peliculas menos las peliculas vistas)\n",
        "4. Usar un fragmento de las peliculas que no vio el usuario ayuda a evaluar de forma mas rapida los elementos y obtener el tiempo promedio.\n",
        "\n"
      ]
    },
    {
      "cell_type": "code",
      "metadata": {
        "id": "Gw7HOtjVLz4U"
      },
      "source": [
        "!apt-get install texlive texlive-xetex texlive-latex-extra pandoc\n",
        "!pip install pypandoc"
      ],
      "execution_count": null,
      "outputs": []
    },
    {
      "cell_type": "code",
      "metadata": {
        "id": "58NEmxw4L7Xt"
      },
      "source": [
        "import os\n",
        "os.chdir('/content/drive/MyDrive/Colab Notebooks')\n",
        "!ls"
      ],
      "execution_count": null,
      "outputs": []
    },
    {
      "cell_type": "code",
      "metadata": {
        "id": "jnqj6OQOMRAU"
      },
      "source": [
        "!jupyter nbconvert \"Topicos en Ciencia de Datos.ipynb\" --to pdf"
      ],
      "execution_count": null,
      "outputs": []
    }
  ]
}